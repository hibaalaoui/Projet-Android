{
 "cells": [
  {
   "cell_type": "code",
   "execution_count": 1,
   "id": "1a49c60a-af09-4de3-b6c4-63f69ae5ebb2",
   "metadata": {},
   "outputs": [
    {
     "name": "stdout",
     "output_type": "stream",
     "text": [
      "✅ Fichier 'depenses.csv' généré avec succès.\n"
     ]
    }
   ],
   "source": [
    "import random\n",
    "import pandas as pd\n",
    "\n",
    "# Les catégories de dépenses\n",
    "categories = [\n",
    "    \"Alimentation\", \"Transport\", \"Logement\", \"Sante\",\n",
    "    \"Loisirs\", \"Education\", \"Factures\", \"Autre\"\n",
    "]\n",
    "\n",
    "data = []\n",
    "\n",
    "# Générer 200 lignes d'exemple\n",
    "for _ in range(200):\n",
    "    # Génère une dépense aléatoire entre 100 et 1000 Dhs pour chaque catégorie\n",
    "    depenses = [random.randint(100, 1000) for _ in categories]\n",
    "    \n",
    "    # Règle simple : la catégorie à réduire = celle avec la plus grande dépense\n",
    "    max_depense_index = depenses.index(max(depenses))\n",
    "    categorie_a_reduire = categories[max_depense_index]\n",
    "    \n",
    "    # Ajoute la ligne (8 colonnes + label)\n",
    "    data.append(depenses + [categorie_a_reduire])\n",
    "\n",
    "# Créer un DataFrame\n",
    "df = pd.DataFrame(data, columns=categories + [\"CategorieAReduire\"])\n",
    "\n",
    "# Sauvegarder au format CSV\n",
    "df.to_csv(\"depenses.csv\", index=False)\n",
    "\n",
    "print(\"✅ Fichier 'depenses.csv' généré avec succès.\")\n"
   ]
  },
  {
   "cell_type": "code",
   "execution_count": null,
   "id": "a0eba11f-b376-4a03-aa01-d851bd080f1a",
   "metadata": {},
   "outputs": [],
   "source": []
  }
 ],
 "metadata": {
  "kernelspec": {
   "display_name": "Python 3 (ipykernel)",
   "language": "python",
   "name": "python3"
  },
  "language_info": {
   "codemirror_mode": {
    "name": "ipython",
    "version": 3
   },
   "file_extension": ".py",
   "mimetype": "text/x-python",
   "name": "python",
   "nbconvert_exporter": "python",
   "pygments_lexer": "ipython3",
   "version": "3.12.7"
  }
 },
 "nbformat": 4,
 "nbformat_minor": 5
}
